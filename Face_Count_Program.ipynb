{
 "cells": [
  {
   "cell_type": "markdown",
   "id": "a2bb0b34",
   "metadata": {},
   "source": [
    "# This is a Program to count number of faces in a frame"
   ]
  },
  {
   "cell_type": "markdown",
   "id": "5c075a5a",
   "metadata": {},
   "source": [
    "#### Apart from counting the number of faces in the frame, this program can also Identify the faces of people present given that the model has been trained to identify them. Currently the model can Identify\n",
    "###### - Lionel Messi\n",
    "###### - Maria Sharapova\n",
    "###### - Roger Federer\n",
    "###### - Serena Williams\n",
    "###### - Roger Federer\n",
    "#### You can train more faces if you have the dataset available."
   ]
  },
  {
   "cell_type": "code",
   "execution_count": 1,
   "id": "81586d07",
   "metadata": {},
   "outputs": [],
   "source": [
    "from pygrabber.dshow_graph import FilterGraph\n",
    "import joblib\n",
    "import numpy as np\n",
    "import cv2\n",
    "import pywt\n",
    "import matplotlib\n",
    "import base64\n",
    "import json\n",
    "from matplotlib import pyplot as plt\n",
    "%matplotlib inline\n"
   ]
  },
  {
   "cell_type": "code",
   "execution_count": 2,
   "id": "8f6123e6",
   "metadata": {
    "scrolled": true
   },
   "outputs": [],
   "source": [
    "__class_name_to_number = {}\n",
    "__class_number_to_name = {}\n",
    "\n",
    "__model = None"
   ]
  },
  {
   "cell_type": "code",
   "execution_count": 3,
   "id": "8d090126",
   "metadata": {},
   "outputs": [],
   "source": [
    "def class_number_to_name(class_num):\n",
    "    return __class_number_to_name[class_num]"
   ]
  },
  {
   "cell_type": "code",
   "execution_count": 4,
   "id": "b24a05e2",
   "metadata": {},
   "outputs": [],
   "source": [
    "def w2d(img, mode='haar', level=1):\n",
    "    imArray = img\n",
    "    #Datatype conversions\n",
    "    #convert to grayscale\n",
    "    imArray = cv2.cvtColor( imArray,cv2.COLOR_RGB2GRAY )\n",
    "    #convert to float\n",
    "    imArray =  np.float32(imArray)\n",
    "    imArray /= 255\n",
    "    # compute coefficients\n",
    "    coeffs=pywt.wavedec2(imArray, mode, level=level)\n",
    "\n",
    "    #Process Coefficients\n",
    "    coeffs_H=list(coeffs)\n",
    "    coeffs_H[0] *= 0\n",
    "\n",
    "    # reconstruction\n",
    "    imArray_H=pywt.waverec2(coeffs_H, mode)\n",
    "    imArray_H *= 255\n",
    "    imArray_H =  np.uint8(imArray_H)\n",
    "\n",
    "    return imArray_H"
   ]
  },
  {
   "cell_type": "code",
   "execution_count": 5,
   "id": "54cbda36",
   "metadata": {},
   "outputs": [],
   "source": [
    "def load_saved_artifacts():\n",
    "    print(\"loading saved artifacts...start\")\n",
    "    global __class_name_to_number\n",
    "    global __class_number_to_name\n",
    "\n",
    "    with open(\"./class_dictionary.json\", \"r\") as f:\n",
    "        __class_name_to_number = json.load(f)\n",
    "        __class_number_to_name = {v:k for k,v in __class_name_to_number.items()}\n",
    "\n",
    "    global __model\n",
    "    if __model is None:\n",
    "        with open('./saved_model.pkl', 'rb') as f:\n",
    "            __model = joblib.load(f)\n",
    "    print(\"loading saved artifacts...done\")"
   ]
  },
  {
   "cell_type": "code",
   "execution_count": 6,
   "id": "9abf1cfb",
   "metadata": {},
   "outputs": [],
   "source": [
    "def get_cropped_image_if_2_eyes(img):\n",
    "    face_cascade = cv2.CascadeClassifier('./opencv/haarcascades/haarcascade_frontalface_default.xml')\n",
    "    eye_cascade = cv2.CascadeClassifier('./opencv/haarcascades/haarcascade_eye.xml')\n",
    "\n",
    "    gray = cv2.cvtColor(img, cv2.COLOR_BGR2GRAY)\n",
    "    faces = face_cascade.detectMultiScale(gray, 1.3, 5)\n",
    "\n",
    "    cropped_faces = []\n",
    "    for (x,y,w,h) in faces:\n",
    "            roi_gray = gray[y:y+h, x:x+w]\n",
    "            roi_color = img[y:y+h, x:x+w]\n",
    "            eyes = eye_cascade.detectMultiScale(roi_gray)\n",
    "            if len(eyes) >= 2:\n",
    "                cropped_faces.append(roi_color)\n",
    "    return cropped_faces"
   ]
  },
  {
   "cell_type": "code",
   "execution_count": 7,
   "id": "714c1eea",
   "metadata": {},
   "outputs": [],
   "source": [
    "def classify_image(image):\n",
    "\n",
    "    imgs = get_cropped_image_if_2_eyes(image)\n",
    "\n",
    "    result = []\n",
    "    for img in imgs:\n",
    "        scalled_raw_img = cv2.resize(img, (32, 32))\n",
    "        img_har = w2d(img, 'db1', 5)\n",
    "        scalled_img_har = cv2.resize(img_har, (32, 32))\n",
    "        combined_img = np.vstack((scalled_raw_img.reshape(32 * 32 * 3, 1), scalled_img_har.reshape(32 * 32, 1)))\n",
    "\n",
    "        len_image_array = 32*32*3 + 32*32\n",
    "\n",
    "        final = combined_img.reshape(1,len_image_array).astype(float)\n",
    "        result.append({\n",
    "            'class': class_number_to_name(__model.predict(final)[0]),\n",
    "            'class_probability': np.around(__model.predict_proba(final)*100,2).tolist()[0],\n",
    "            'class_dictionary': __class_name_to_number\n",
    "        })\n",
    "            \n",
    "    return result"
   ]
  },
  {
   "cell_type": "markdown",
   "id": "ffb558d5",
   "metadata": {},
   "source": [
    "### Load ML Model"
   ]
  },
  {
   "cell_type": "code",
   "execution_count": 8,
   "id": "26a2016f",
   "metadata": {
    "scrolled": true
   },
   "outputs": [
    {
     "name": "stdout",
     "output_type": "stream",
     "text": [
      "loading saved artifacts...start\n",
      "loading saved artifacts...done\n"
     ]
    }
   ],
   "source": [
    "if __name__ == '__main__':\n",
    "    load_saved_artifacts()"
   ]
  },
  {
   "cell_type": "markdown",
   "id": "2518805d",
   "metadata": {},
   "source": [
    "### Get Device list and select device"
   ]
  },
  {
   "cell_type": "code",
   "execution_count": 9,
   "id": "51349df5",
   "metadata": {},
   "outputs": [
    {
     "name": "stdout",
     "output_type": "stream",
     "text": [
      "Device:\t\t\tIndex\n",
      "USB2.0 HD UVC WebCam -\t 0\n",
      "\n",
      "Select index your input device: \n",
      "0\n"
     ]
    }
   ],
   "source": [
    "graph = FilterGraph()\n",
    "device_list = graph.get_input_devices()\n",
    "print('Device:\\t\\t\\tIndex')\n",
    "for i in range(len(device_list)):\n",
    "    print(device_list[i], '-\\t', i)\n",
    "\n",
    "print(\"\\nSelect index your input device: \")\n",
    "device_num = int(input())"
   ]
  },
  {
   "cell_type": "markdown",
   "id": "507c72e4",
   "metadata": {},
   "source": [
    "### Start Camera"
   ]
  },
  {
   "cell_type": "code",
   "execution_count": 11,
   "id": "442a37db",
   "metadata": {},
   "outputs": [
    {
     "name": "stdout",
     "output_type": "stream",
     "text": [
      "None\n"
     ]
    }
   ],
   "source": [
    "face_cascade = cv2.CascadeClassifier('./opencv/haarcascades/haarcascade_frontalface_default.xml')\n",
    "eye_cascade = cv2.CascadeClassifier('./opencv/haarcascades/haarcascade_eye.xml')\n",
    "\n",
    "c = cv2.VideoCapture(device_num)\n",
    "\n",
    "while(1):\n",
    "    _,feed = c.read()\n",
    "    face_img = feed.copy()\n",
    "    gray = cv2.cvtColor(feed, cv2.COLOR_BGR2GRAY)\n",
    "    \n",
    "    faces = face_cascade.detectMultiScale(gray, 1.3, 5)\n",
    "    people = []\n",
    "    try:\n",
    "        for (x,y,w,h) in faces:\n",
    "            cv2.rectangle(face_img,(x,y),(x+w,y+h),(255,0,0),2)\n",
    "            res = classify_image(feed)\n",
    "            for i in res:\n",
    "                if i not in people:\n",
    "                    people.append(i['class'])\n",
    "            try:\n",
    "                cv2.putText(face_img, f'No. of faces : = {len(faces)}', (50,50), cv2.FONT_HERSHEY_SIMPLEX, 1,\n",
    "                                (209, 80, 0, 255), 1)\n",
    "            except:\n",
    "                pass\n",
    "        cv2.imshow('Detected face', face_img)\n",
    "    except Exception:\n",
    "        pass\n",
    "    \n",
    "    cv2.imshow('Capturing Feed',feed)\n",
    "    \n",
    "    if cv2.waitKey(5)==27:\n",
    "        break\n",
    "\n",
    "c.release()\n",
    "cv2.destroyAllWindows()\n",
    "if people:\n",
    "    '''\n",
    "    List that can be Identified: \n",
    "    - Virat Kohli\n",
    "    - Roger Federer\n",
    "    - Maria Sharapova\n",
    "    - Serena Williams\n",
    "    - Lionel Messi\n",
    "    '''\n",
    "    print(\"List of people Identified: \")\n",
    "    print(people)\n",
    "else:\n",
    "    print(None)"
   ]
  }
 ],
 "metadata": {
  "kernelspec": {
   "display_name": "PyCharm (PythonLab)",
   "language": "python",
   "name": "pycharm-3716771b"
  },
  "language_info": {
   "codemirror_mode": {
    "name": "ipython",
    "version": 3
   },
   "file_extension": ".py",
   "mimetype": "text/x-python",
   "name": "python",
   "nbconvert_exporter": "python",
   "pygments_lexer": "ipython3",
   "version": "3.8.10"
  }
 },
 "nbformat": 4,
 "nbformat_minor": 5
}
